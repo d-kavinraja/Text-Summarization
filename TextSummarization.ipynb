{
 "cells": [
  {
   "cell_type": "code",
   "execution_count": 1,
   "metadata": {
    "colab": {
     "base_uri": "https://localhost:8080/"
    },
    "id": "ioOO9ZR9RLB5",
    "outputId": "18417ab2-35a3-4c5a-8ddd-ad3dcc99f0f2"
   },
   "outputs": [
    {
     "name": "stdout",
     "output_type": "stream",
     "text": [
      "Defaulting to user installation because normal site-packages is not writeable\n",
      "Requirement already satisfied: nltk in c:\\users\\sec\\appdata\\roaming\\python\\python310\\site-packages (3.9.1)\n",
      "Requirement already satisfied: click in c:\\program files\\python310\\lib\\site-packages (from nltk) (8.1.7)\n",
      "Requirement already satisfied: joblib in c:\\program files\\python310\\lib\\site-packages (from nltk) (1.4.2)\n",
      "Requirement already satisfied: regex>=2021.8.3 in c:\\program files\\python310\\lib\\site-packages (from nltk) (2024.7.24)\n",
      "Requirement already satisfied: tqdm in c:\\program files\\python310\\lib\\site-packages (from nltk) (4.66.4)\n",
      "Requirement already satisfied: colorama in c:\\users\\sec\\appdata\\roaming\\python\\python310\\site-packages (from click->nltk) (0.4.6)\n"
     ]
    },
    {
     "name": "stderr",
     "output_type": "stream",
     "text": [
      "\n",
      "[notice] A new release of pip is available: 24.2 -> 24.3.1\n",
      "[notice] To update, run: python.exe -m pip install --upgrade pip\n"
     ]
    }
   ],
   "source": [
    "!pip install nltk"
   ]
  },
  {
   "cell_type": "code",
   "execution_count": 2,
   "metadata": {
    "colab": {
     "base_uri": "https://localhost:8080/"
    },
    "id": "ky4rnqxMWcdi",
    "outputId": "fd9e3c01-5045-454b-c035-a4b249e2e4d1"
   },
   "outputs": [
    {
     "name": "stderr",
     "output_type": "stream",
     "text": [
      "[nltk_data] Downloading package punkt to\n",
      "[nltk_data]     C:\\Users\\SEC\\AppData\\Roaming\\nltk_data...\n",
      "[nltk_data]   Package punkt is already up-to-date!\n",
      "[nltk_data] Downloading package stopwords to\n",
      "[nltk_data]     C:\\Users\\SEC\\AppData\\Roaming\\nltk_data...\n",
      "[nltk_data]   Unzipping corpora\\stopwords.zip.\n"
     ]
    },
    {
     "data": {
      "text/plain": [
       "True"
      ]
     },
     "execution_count": 2,
     "metadata": {},
     "output_type": "execute_result"
    }
   ],
   "source": [
    "import nltk\n",
    "from nltk.corpus import stopwords\n",
    "from nltk.tokenize import word_tokenize,sent_tokenize\n",
    "from nltk.stem import PorterStemmer\n",
    "nltk.download( 'punkt' )\n",
    "nltk.download( 'stopwords' )"
   ]
  },
  {
   "cell_type": "code",
   "execution_count": 3,
   "metadata": {
    "id": "E6fcgJR_WGgH"
   },
   "outputs": [],
   "source": [
    "def preprocess_text(text):\n",
    "\t# Tokenize the text into words\n",
    "\twords = word_tokenize(text)\n",
    "\t# Remove stopwords and punctuation\n",
    "\tstop_words= set(stopwords.words( 'english'))\n",
    "\tfiltered_words= [word for word in words if word. lower() not in stop_words and word.isalnum()]\n",
    "\n",
    "\t# Stemming\n",
    "\tstemmer = PorterStemmer()\n",
    "\n",
    "\tstemmed_words= [stemmer. stem(word) for word in filtered_words]\n",
    "\treturn stemmed_words\n"
   ]
  },
  {
   "cell_type": "code",
   "execution_count": 4,
   "metadata": {
    "id": "7W6bAl3lWk3D"
   },
   "outputs": [],
   "source": [
    "def generate_summary(text,num_sentences=3):\n",
    "\n",
    "\tsentences= sent_tokenize(text)\n",
    "\tpreprocessed_text = preprocess_text(text)\n",
    "\t# Calculate the frequency of each word\n",
    "\tword_frequencies =nltk. FreqDist (preprocessed_text)\n",
    "\n",
    "\t# Calculate the score for each sentence based on word frequency\n",
    "\tsentence_scores ={}\n",
    "\tfor sentence in sentences:\n",
    "\t\tfor word, freq in word_frequencies.items():\n",
    "\t\t\tif word in sentence.lower():\n",
    "\t\t\t\tif sentence not in sentence_scores:\n",
    "\t\t\t\t\tsentence_scores[sentence] = freq\n",
    "\t\t\t\telse:\n",
    "\t\t\t\t\tsentence_scores[sentence]+= freq\n",
    "\t# Select top N sentences with highest scores\n",
    "\tsummary_sentences= sorted(sentence_scores, key=sentence_scores.get,reverse=True) [ : num_sentences]\n",
    "\n",
    "\treturn ' '. join(summary_sentences)\n"
   ]
  },
  {
   "cell_type": "code",
   "execution_count": 5,
   "metadata": {
    "colab": {
     "base_uri": "https://localhost:8080/"
    },
    "id": "A5_bpKwNW2l6",
    "outputId": "934c6d02-9a1e-4de2-a51f-edd3e305af5f"
   },
   "outputs": [
    {
     "name": "stdout",
     "output_type": "stream",
     "text": [
      "Origina1 Text: \n",
      "\n",
      "\tNatural language processing (NLP) is a subfield of artificial intelligence.\n",
      "\tIt involves the development of algorithms and models that enact NLP.\n",
      "\tNLP is used in various applications, including chatbots, language Understanding, and language generation.\n",
      "\tThis program demonstrates a simple text summarization using NLP\n",
      " \n",
      "Summary : \n",
      "NLP is used in various applications, including chatbots, language Understanding, and language generation. \n",
      "\tNatural language processing (NLP) is a subfield of artificial intelligence. It involves the development of algorithms and models that enact NLP.\n"
     ]
    }
   ],
   "source": [
    "if __name__==\"__main__\":\n",
    "\tinput_text =\"\"\"\n",
    "\tNatural language processing (NLP) is a subfield of artificial intelligence.\n",
    "\tIt involves the development of algorithms and models that enact NLP.\n",
    "\tNLP is used in various applications, including chatbots, language Understanding, and language generation.\n",
    "\tThis program demonstrates a simple text summarization using NLP\"\"\"\n",
    "summary = generate_summary(input_text)\n",
    "print(\"Origina1 Text: \")\n",
    "print (input_text )\n",
    "print( \" \\nSummary : \" )\n",
    "print(summary)\n"
   ]
  }
 ],
 "metadata": {
  "colab": {
   "provenance": []
  },
  "kernelspec": {
   "display_name": "Python 3",
   "name": "python3"
  },
  "language_info": {
   "codemirror_mode": {
    "name": "ipython",
    "version": 3
   },
   "file_extension": ".py",
   "mimetype": "text/x-python",
   "name": "python",
   "nbconvert_exporter": "python",
   "pygments_lexer": "ipython3",
   "version": "3.10.11"
  }
 },
 "nbformat": 4,
 "nbformat_minor": 0
}
