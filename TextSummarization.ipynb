{
  "nbformat": 4,
  "nbformat_minor": 0,
  "metadata": {
    "colab": {
      "provenance": []
    },
    "kernelspec": {
      "name": "python3",
      "display_name": "Python 3"
    },
    "language_info": {
      "name": "python"
    }
  },
  "cells": [
    {
      "cell_type": "code",
      "execution_count": null,
      "metadata": {
        "colab": {
          "base_uri": "https://localhost:8080/"
        },
        "id": "ioOO9ZR9RLB5",
        "outputId": "18417ab2-35a3-4c5a-8ddd-ad3dcc99f0f2"
      },
      "outputs": [
        {
          "output_type": "stream",
          "name": "stdout",
          "text": [
            "Requirement already satisfied: nltk in /usr/local/lib/python3.10/dist-packages (3.8.1)\n",
            "Requirement already satisfied: click in /usr/local/lib/python3.10/dist-packages (from nltk) (8.1.7)\n",
            "Requirement already satisfied: joblib in /usr/local/lib/python3.10/dist-packages (from nltk) (1.4.0)\n",
            "Requirement already satisfied: regex>=2021.8.3 in /usr/local/lib/python3.10/dist-packages (from nltk) (2023.12.25)\n",
            "Requirement already satisfied: tqdm in /usr/local/lib/python3.10/dist-packages (from nltk) (4.66.2)\n"
          ]
        }
      ],
      "source": [
        "!pip install nltk"
      ]
    },
    {
      "cell_type": "code",
      "source": [
        "import nltk\n",
        "from nltk.corpus import stopwords\n",
        "from nltk.tokenize import word_tokenize,sent_tokenize\n",
        "from nltk.stem import PorterStemmer\n",
        "nltk.download( 'punkt' )\n",
        "nltk.download( 'stopwords' )"
      ],
      "metadata": {
        "colab": {
          "base_uri": "https://localhost:8080/"
        },
        "id": "ky4rnqxMWcdi",
        "outputId": "fd9e3c01-5045-454b-c035-a4b249e2e4d1"
      },
      "execution_count": null,
      "outputs": [
        {
          "output_type": "stream",
          "name": "stderr",
          "text": [
            "[nltk_data] Downloading package punkt to /root/nltk_data...\n",
            "[nltk_data]   Package punkt is already up-to-date!\n",
            "[nltk_data] Downloading package stopwords to /root/nltk_data...\n",
            "[nltk_data]   Package stopwords is already up-to-date!\n"
          ]
        },
        {
          "output_type": "execute_result",
          "data": {
            "text/plain": [
              "True"
            ]
          },
          "metadata": {},
          "execution_count": 17
        }
      ]
    },
    {
      "cell_type": "code",
      "source": [
        "def preprocess_text(text):\n",
        "\t# Tokenize the text into words\n",
        "\twords = word_tokenize(text)\n",
        "\t# Remove stopwords and punctuation\n",
        "\tstop_words= set(stopwords.words( 'english'))\n",
        "\tfiltered_words= [word for word in words if word. lower() not in stop_words and word.isalnum()]\n",
        "\n",
        "\t# Stemming\n",
        "\tstemmer = PorterStemmer()\n",
        "\n",
        "\tstemmed_words= [stemmer. stem(word) for word in filtered_words]\n",
        "\treturn stemmed_words\n"
      ],
      "metadata": {
        "id": "E6fcgJR_WGgH"
      },
      "execution_count": null,
      "outputs": []
    },
    {
      "cell_type": "code",
      "source": [
        "def generate_summary(text,num_sentences=3):\n",
        "\n",
        "\tsentences= sent_tokenize(text)\n",
        "\tpreprocessed_text = preprocess_text(text)\n",
        "\t# Calculate the frequency of each word\n",
        "\tword_frequencies =nltk. FreqDist (preprocessed_text)\n",
        "\n",
        "\t# Calculate the score for each sentence based on word frequency\n",
        "\tsentence_scores ={}\n",
        "\tfor sentence in sentences:\n",
        "\t\tfor word, freq in word_frequencies.items():\n",
        "\t\t\tif word in sentence.lower():\n",
        "\t\t\t\tif sentence not in sentence_scores:\n",
        "\t\t\t\t\tsentence_scores[sentence] = freq\n",
        "\t\t\t\telse:\n",
        "\t\t\t\t\tsentence_scores[sentence]+= freq\n",
        "\t# Select top N sentences with highest scores\n",
        "\tsummary_sentences= sorted(sentence_scores, key=sentence_scores.get,reverse=True) [ : num_sentences]\n",
        "\n",
        "\treturn ' '. join(summary_sentences)\n"
      ],
      "metadata": {
        "id": "7W6bAl3lWk3D"
      },
      "execution_count": null,
      "outputs": []
    },
    {
      "cell_type": "code",
      "source": [
        "if __name__==\"__main__\":\n",
        "\tinput_text =\"\"\"\n",
        "\tNatural language processing (NLP) is a subfield of artificial intelligence.\n",
        "\tIt involves the development of algorithms and models that enact NLP.\n",
        "\tNLP is used in various applications, including chatbots, language Understanding, and language generation.\n",
        "\tThis program demonstrates a simple text summarization using NLP\"\"\"\n",
        "summary = generate_summary(input_text)\n",
        "print(\"Origina1 Text: \")\n",
        "print (input_text )\n",
        "print( \" \\nSummary : \" )\n",
        "print(summary)\n"
      ],
      "metadata": {
        "colab": {
          "base_uri": "https://localhost:8080/"
        },
        "id": "A5_bpKwNW2l6",
        "outputId": "934c6d02-9a1e-4de2-a51f-edd3e305af5f"
      },
      "execution_count": null,
      "outputs": [
        {
          "output_type": "stream",
          "name": "stdout",
          "text": [
            "Origina1 Text: \n",
            "\n",
            "\tNatural language processing (NLP) is a subfield of artificial intelligence.\n",
            "\tIt involves the development of algorithms and models that enact NLP.\t\t\n",
            "\tNLP is used in various applications, including chatbots, language Understanding, and language generation.\n",
            "\tThis program demonstrates a simple text summarization using NLP\n",
            " \n",
            "Summary : \n",
            "NLP is used in various applications, including chatbots, language Understanding, and language generation. \n",
            "\tNatural language processing (NLP) is a subfield of artificial intelligence. It involves the development of algorithms and models that enact NLP.\n"
          ]
        }
      ]
    },
    {
      "cell_type": "code",
      "source": [],
      "metadata": {
        "id": "0sd3j38pXBcB"
      },
      "execution_count": null,
      "outputs": []
    }
  ]
}